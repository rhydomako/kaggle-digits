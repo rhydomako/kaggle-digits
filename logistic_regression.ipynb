{
 "metadata": {
  "name": "",
  "signature": "sha256:bb16fb48010056e83d021e4119cad016d0f54242ca58bb3d9cf3c176eae99711"
 },
 "nbformat": 3,
 "nbformat_minor": 0,
 "worksheets": [
  {
   "cells": [
    {
     "cell_type": "markdown",
     "metadata": {},
     "source": [
      "Following the Deep Learning / Theano tutorial http://deeplearning.net/tutorial/logreg.html \n",
      "\n",
      "Logistic regression model for MNIST digit classification."
     ]
    },
    {
     "cell_type": "code",
     "collapsed": false,
     "input": [
      "import cPickle\n",
      "import numpy as np\n",
      "import time\n",
      "\n",
      "import theano\n",
      "import theano.tensor as T"
     ],
     "language": "python",
     "metadata": {},
     "outputs": [],
     "prompt_number": 1
    },
    {
     "cell_type": "code",
     "collapsed": false,
     "input": [
      "def load_training_data():\n",
      "    \"\"\" \n",
      "        Load the labeled training examples that have already been formatted (format_data.py)\n",
      "        \n",
      "        return three pre-partitioned sets as theano shared arrays\n",
      "    \"\"\"\n",
      "    def shared_dataset(data):\n",
      "        inputs = theano.shared(np.asanyarray(data[0],dtype=theano.config.floatX))\n",
      "        target = theano.shared(np.asanyarray(data[1],dtype=theano.config.floatX))\n",
      "        return inputs, T.cast(target, 'int32')\n",
      "    \n",
      "    with open('digits.pkl', \"rb\") as f:\n",
      "        train, test, validation = cPickle.load(f)\n",
      "        \n",
      "    return [shared_dataset(train),\n",
      "            shared_dataset(test),\n",
      "            shared_dataset(validation)]\n",
      "\n",
      "def load_predict_data():\n",
      "    \"\"\"\n",
      "        Load the unlabeled data for Kaggle submission\n",
      "    \"\"\"\n",
      "    with open('predict.pkl', \"rb\") as f:\n",
      "        test_data = cPickle.load(f)\n",
      "    return test_data"
     ],
     "language": "python",
     "metadata": {},
     "outputs": [],
     "prompt_number": 2
    },
    {
     "cell_type": "code",
     "collapsed": false,
     "input": [
      "class LogisticRegression(object):\n",
      "    \"\"\"\n",
      "        The softmax function ammounts to a multinomial logistic regression model\n",
      "    \"\"\"\n",
      "    \n",
      "    def __init__(self, inputs, n_in, n_out):\n",
      "        \n",
      "        #Weights matrix\n",
      "        self.W = theano.shared(\n",
      "            value=np.zeros(\n",
      "                (n_in, n_out),\n",
      "                dtype=theano.config.floatX\n",
      "            ),\n",
      "            name='W',\n",
      "            borrow=True\n",
      "        )\n",
      "        \n",
      "        #bias vector\n",
      "        self.b = theano.shared(\n",
      "            value=np.zeros(\n",
      "                (n_out,),\n",
      "                dtype=theano.config.floatX\n",
      "            ),\n",
      "            name='b',\n",
      "            borrow=True\n",
      "        )\n",
      "        self.p_y_given_x = T.nnet.softmax(T.dot(inputs, self.W) + self.b)\n",
      "        self.y_pred = T.argmax(self.p_y_given_x, axis=1)\n",
      "        self.params = [self.W, self.b]\n",
      "        \n",
      "    def negative_log_likelihood(self, y):\n",
      "        \"\"\" Cost function \"\"\"\n",
      "        return -T.mean(T.log(self.p_y_given_x)[T.arange(y.shape[0]), y])\n",
      "\n",
      "    def errors(self, y):\n",
      "        \"\"\" Number of misclassified digits in a batch \"\"\"\n",
      "        return T.mean(T.neq(self.y_pred, y))"
     ],
     "language": "python",
     "metadata": {},
     "outputs": [],
     "prompt_number": 8
    },
    {
     "cell_type": "markdown",
     "metadata": {},
     "source": [
      "Load in the data"
     ]
    },
    {
     "cell_type": "code",
     "collapsed": false,
     "input": [
      "train, test, validation = load_training_data()\n",
      "\n",
      "train_inputs, train_labels = train\n",
      "test_inputs , test_labels  = test\n",
      "validation_inputs, validation_labels = validation"
     ],
     "language": "python",
     "metadata": {},
     "outputs": [],
     "prompt_number": 4
    },
    {
     "cell_type": "markdown",
     "metadata": {},
     "source": [
      "Model parameters"
     ]
    },
    {
     "cell_type": "code",
     "collapsed": false,
     "input": [
      "learning_rate=0.4\n",
      "n_epochs=1000\n",
      "batch_size=600\n",
      "\n",
      "train_batches = train_inputs.get_value().shape[0] / batch_size\n",
      "test_batches = test_inputs.get_value().shape[0] / batch_size\n",
      "validation_batches = validation_inputs.get_value().shape[0] / batch_size\n",
      "\n",
      "print \"Number of training batches: \" + str(train_batches) + \"\\n\" +\\\n",
      "      \"Number of test batches: \" + str(test_batches) + \"\\n\" +\\\n",
      "      \"Number of validation batches: \" + str(validation_batches)"
     ],
     "language": "python",
     "metadata": {},
     "outputs": [
      {
       "output_type": "stream",
       "stream": "stdout",
       "text": [
        "Number of training batches: 46\n",
        "Number of test batches: 11\n",
        "Number of validation batches: 11\n"
       ]
      }
     ],
     "prompt_number": 26
    },
    {
     "cell_type": "markdown",
     "metadata": {},
     "source": [
      "Start constructing the Theano computation graph.\n",
      "\n",
      "First, initialize the classifier"
     ]
    },
    {
     "cell_type": "code",
     "collapsed": false,
     "input": [
      "index = T.lscalar()\n",
      "\n",
      "inputs = T.matrix('x')\n",
      "labels = T.ivector('y')\n",
      "\n",
      "classifier = LogisticRegression(inputs=inputs, n_in=28 * 28, n_out=10)\n",
      "\n",
      "cost = classifier.negative_log_likelihood(labels)"
     ],
     "language": "python",
     "metadata": {},
     "outputs": [],
     "prompt_number": 27
    },
    {
     "cell_type": "markdown",
     "metadata": {},
     "source": [
      "The test and validation models don't need to be trained, so they don't have the `update` parameters"
     ]
    },
    {
     "cell_type": "code",
     "collapsed": false,
     "input": [
      "test_model = theano.function(\n",
      "    inputs=[index],\n",
      "    outputs=classifier.errors(labels),\n",
      "    givens={\n",
      "        inputs: test_inputs[index * batch_size: (index + 1) * batch_size],\n",
      "        labels: test_labels[index * batch_size: (index + 1) * batch_size]\n",
      "    }\n",
      ")\n",
      "\n",
      "validate_model = theano.function(\n",
      "    inputs=[index],\n",
      "    outputs=classifier.errors(labels),\n",
      "    givens={\n",
      "        inputs: validation_inputs[index * batch_size: (index + 1) * batch_size],\n",
      "        labels: validation_labels[index * batch_size: (index + 1) * batch_size]\n",
      "    }\n",
      ")"
     ],
     "language": "python",
     "metadata": {},
     "outputs": [],
     "prompt_number": 28
    },
    {
     "cell_type": "markdown",
     "metadata": {},
     "source": [
      "Now the training model, note the update parameter for the gradient descent."
     ]
    },
    {
     "cell_type": "code",
     "collapsed": false,
     "input": [
      "g_W = T.grad(cost=cost, wrt=classifier.W)\n",
      "g_b = T.grad(cost=cost, wrt=classifier.b)\n",
      "\n",
      "updates = [(classifier.W, classifier.W - learning_rate * g_W),\n",
      "           (classifier.b, classifier.b - learning_rate * g_b)]\n",
      "\n",
      "train_model = theano.function(\n",
      "        inputs=[index],\n",
      "        outputs=cost,\n",
      "        updates=updates,\n",
      "        givens={\n",
      "            inputs: train_inputs[index * batch_size: (index + 1) * batch_size],\n",
      "            labels: train_labels[index * batch_size: (index + 1) * batch_size]\n",
      "        }\n",
      "    )"
     ],
     "language": "python",
     "metadata": {},
     "outputs": [],
     "prompt_number": 29
    },
    {
     "cell_type": "markdown",
     "metadata": {},
     "source": [
      "Parameters for the training loop:"
     ]
    },
    {
     "cell_type": "code",
     "collapsed": false,
     "input": [
      "patience = 5000  # look as this many examples regardless\n",
      "patience_increase = 2  # wait this much longer when a new best is\n",
      "                                  # found\n",
      "improvement_threshold = 0.995  # a relative improvement of this much is\n",
      "                                  # considered significant\n",
      "validation_frequency = min(train_batches, patience / 2)\n",
      "                                  # go through this many\n",
      "                                  # minibatche before checking the network\n",
      "                                  # on the validation set; in this case we\n",
      "                                  # check every epoch\n",
      "best_validation_loss = np.inf\n",
      "test_score = 0."
     ],
     "language": "python",
     "metadata": {},
     "outputs": [],
     "prompt_number": 30
    },
    {
     "cell_type": "markdown",
     "metadata": {},
     "source": [
      "Training loop:"
     ]
    },
    {
     "cell_type": "code",
     "collapsed": false,
     "input": [
      "start_time = time.clock()\n",
      "\n",
      "done_looping = False\n",
      "epoch = 0\n",
      "\n",
      "while (epoch < n_epochs) and (not done_looping):\n",
      "    epoch = epoch + 1\n",
      "    for minibatch_index in xrange(train_batches):\n",
      "        \n",
      "        minibatch_avg_cost = train_model(minibatch_index)\n",
      "        # iteration number\n",
      "        iter = (epoch - 1) * train_batches + minibatch_index\n",
      "        \n",
      "        if (iter + 1) % validation_frequency == 0:\n",
      "        # compute zero-one loss on validation set\n",
      "            validation_losses = [validate_model(i)\n",
      "                                 for i in xrange(validation_batches)]\n",
      "            this_validation_loss = np.mean(validation_losses)\n",
      "\n",
      "            print(\n",
      "                'epoch %i, minibatch %i/%i, validation error %f %%' %\n",
      "                (\n",
      "                    epoch,\n",
      "                    minibatch_index + 1,\n",
      "                    train_batches,\n",
      "                    this_validation_loss * 100.\n",
      "                )\n",
      "            )\n",
      "\n",
      "            # if we got the best validation score until now\n",
      "            if this_validation_loss < best_validation_loss:\n",
      "                #improve patience if loss improvement is good enough\n",
      "                if this_validation_loss < best_validation_loss *  \\\n",
      "                    improvement_threshold:\n",
      "                    patience = max(patience, iter * patience_increase)\n",
      "\n",
      "                best_validation_loss = this_validation_loss\n",
      "                # test it on the test set\n",
      "\n",
      "                test_losses = [test_model(i)\n",
      "                                for i in xrange(test_batches)]\n",
      "                test_score = np.mean(test_losses)\n",
      "\n",
      "                print(\n",
      "                    (\n",
      "                        '     epoch %i, minibatch %i/%i, test error of'\n",
      "                        ' best model %f %%'\n",
      "                    ) %\n",
      "                    (\n",
      "                        epoch,\n",
      "                        minibatch_index + 1,\n",
      "                        train_batches,\n",
      "                        test_score * 100.\n",
      "                    )\n",
      "                )\n",
      "\n",
      "        if patience <= iter:\n",
      "            done_looping = True\n",
      "            break\n",
      "\n",
      "end_time = time.clock()\n",
      "\n",
      "print(\n",
      "        (\n",
      "            'Optimization complete with best validation score of %f %%,'\n",
      "            'with test performance %f %%'\n",
      "        )\n",
      "        % (best_validation_loss * 100., test_score * 100.)\n",
      "    )\n",
      "print 'The code run for %d epochs, with %f epochs/sec' % (\n",
      "    epoch, 1. * epoch / (end_time - start_time))"
     ],
     "language": "python",
     "metadata": {},
     "outputs": [
      {
       "output_type": "stream",
       "stream": "stdout",
       "text": [
        "epoch 1, minibatch 46/46, validation error 12.030303 %\n",
        "     epoch 1, minibatch 46/46, test error of best model 13.015152 %\n",
        "epoch 2, minibatch 46/46, validation error 10.742424 %"
       ]
      },
      {
       "output_type": "stream",
       "stream": "stdout",
       "text": [
        "\n",
        "     epoch 2, minibatch 46/46, test error of best model 11.363636 %\n",
        "epoch 3, minibatch 46/46, validation error 10.181818 %"
       ]
      },
      {
       "output_type": "stream",
       "stream": "stdout",
       "text": [
        "\n",
        "     epoch 3, minibatch 46/46, test error of best model 10.742424 %\n",
        "epoch 4, minibatch 46/46, validation error 9.818182 %"
       ]
      },
      {
       "output_type": "stream",
       "stream": "stdout",
       "text": [
        "\n",
        "     epoch 4, minibatch 46/46, test error of best model 10.257576 %\n",
        "epoch 5, minibatch 46/46, validation error 9.439394 %"
       ]
      },
      {
       "output_type": "stream",
       "stream": "stdout",
       "text": [
        "\n",
        "     epoch 5, minibatch 46/46, test error of best model 9.954545 %\n",
        "epoch 6, minibatch 46/46, validation error 9.181818 %"
       ]
      },
      {
       "output_type": "stream",
       "stream": "stdout",
       "text": [
        "\n",
        "     epoch 6, minibatch 46/46, test error of best model 9.621212 %\n",
        "epoch 7, minibatch 46/46, validation error 8.893939 %"
       ]
      },
      {
       "output_type": "stream",
       "stream": "stdout",
       "text": [
        "\n",
        "     epoch 7, minibatch 46/46, test error of best model 9.545455 %\n",
        "epoch 8, minibatch 46/46, validation error 8.742424 %"
       ]
      },
      {
       "output_type": "stream",
       "stream": "stdout",
       "text": [
        "\n",
        "     epoch 8, minibatch 46/46, test error of best model 9.393939 %\n",
        "epoch 9, minibatch 46/46, validation error 8.606061 %"
       ]
      },
      {
       "output_type": "stream",
       "stream": "stdout",
       "text": [
        "\n",
        "     epoch 9, minibatch 46/46, test error of best model 9.318182 %\n",
        "epoch 10, minibatch 46/46, validation error 8.515152 %"
       ]
      },
      {
       "output_type": "stream",
       "stream": "stdout",
       "text": [
        "\n",
        "     epoch 10, minibatch 46/46, test error of best model 9.303030 %\n",
        "epoch 11, minibatch 46/46, validation error 8.454545 %"
       ]
      },
      {
       "output_type": "stream",
       "stream": "stdout",
       "text": [
        "\n",
        "     epoch 11, minibatch 46/46, test error of best model 9.212121 %\n",
        "epoch 12, minibatch 46/46, validation error 8.409091 %"
       ]
      },
      {
       "output_type": "stream",
       "stream": "stdout",
       "text": [
        "\n",
        "     epoch 12, minibatch 46/46, test error of best model 9.196970 %\n",
        "epoch 13, minibatch 46/46, validation error 8.348485 %"
       ]
      },
      {
       "output_type": "stream",
       "stream": "stdout",
       "text": [
        "\n",
        "     epoch 13, minibatch 46/46, test error of best model 9.075758 %\n",
        "epoch 14, minibatch 46/46, validation error 8.227273 %"
       ]
      },
      {
       "output_type": "stream",
       "stream": "stdout",
       "text": [
        "\n",
        "     epoch 14, minibatch 46/46, test error of best model 9.045455 %\n",
        "epoch 15, minibatch 46/46, validation error 8.121212 %"
       ]
      },
      {
       "output_type": "stream",
       "stream": "stdout",
       "text": [
        "\n",
        "     epoch 15, minibatch 46/46, test error of best model 8.939394 %\n",
        "epoch 16, minibatch 46/46, validation error 8.090909 %"
       ]
      },
      {
       "output_type": "stream",
       "stream": "stdout",
       "text": [
        "\n",
        "     epoch 16, minibatch 46/46, test error of best model 8.878788 %\n",
        "epoch 17, minibatch 46/46, validation error 8.075758 %"
       ]
      },
      {
       "output_type": "stream",
       "stream": "stdout",
       "text": [
        "\n",
        "     epoch 17, minibatch 46/46, test error of best model 8.863636 %\n",
        "epoch 18, minibatch 46/46, validation error 8.045455 %"
       ]
      },
      {
       "output_type": "stream",
       "stream": "stdout",
       "text": [
        "\n",
        "     epoch 18, minibatch 46/46, test error of best model 8.818182 %\n",
        "epoch 19, minibatch 46/46, validation error 8.000000 %"
       ]
      },
      {
       "output_type": "stream",
       "stream": "stdout",
       "text": [
        "\n",
        "     epoch 19, minibatch 46/46, test error of best model 8.757576 %\n",
        "epoch 20, minibatch 46/46, validation error 8.000000 %"
       ]
      },
      {
       "output_type": "stream",
       "stream": "stdout",
       "text": [
        "\n",
        "epoch 21, minibatch 46/46, validation error 8.000000 %"
       ]
      },
      {
       "output_type": "stream",
       "stream": "stdout",
       "text": [
        "\n",
        "epoch 22, minibatch 46/46, validation error 8.000000 %"
       ]
      },
      {
       "output_type": "stream",
       "stream": "stdout",
       "text": [
        "\n",
        "epoch 23, minibatch 46/46, validation error 8.030303 %"
       ]
      },
      {
       "output_type": "stream",
       "stream": "stdout",
       "text": [
        "\n",
        "epoch 24, minibatch 46/46, validation error 8.015152 %"
       ]
      },
      {
       "output_type": "stream",
       "stream": "stdout",
       "text": [
        "\n",
        "epoch 25, minibatch 46/46, validation error 7.909091 %"
       ]
      },
      {
       "output_type": "stream",
       "stream": "stdout",
       "text": [
        "\n",
        "     epoch 25, minibatch 46/46, test error of best model 8.666667 %\n",
        "epoch 26, minibatch 46/46, validation error 7.863636 %"
       ]
      },
      {
       "output_type": "stream",
       "stream": "stdout",
       "text": [
        "\n",
        "     epoch 26, minibatch 46/46, test error of best model 8.621212 %\n",
        "epoch 27, minibatch 46/46, validation error 7.863636 %"
       ]
      },
      {
       "output_type": "stream",
       "stream": "stdout",
       "text": [
        "\n",
        "epoch 28, minibatch 46/46, validation error 7.848485 %"
       ]
      },
      {
       "output_type": "stream",
       "stream": "stdout",
       "text": [
        "\n",
        "     epoch 28, minibatch 46/46, test error of best model 8.575758 %\n",
        "epoch 29, minibatch 46/46, validation error 7.848485 %"
       ]
      },
      {
       "output_type": "stream",
       "stream": "stdout",
       "text": [
        "\n",
        "epoch 30, minibatch 46/46, validation error 7.803030 %"
       ]
      },
      {
       "output_type": "stream",
       "stream": "stdout",
       "text": [
        "\n",
        "     epoch 30, minibatch 46/46, test error of best model 8.500000 %\n",
        "epoch 31, minibatch 46/46, validation error 7.833333 %"
       ]
      },
      {
       "output_type": "stream",
       "stream": "stdout",
       "text": [
        "\n",
        "epoch 32, minibatch 46/46, validation error 7.833333 %"
       ]
      },
      {
       "output_type": "stream",
       "stream": "stdout",
       "text": [
        "\n",
        "epoch 33, minibatch 46/46, validation error 7.818182 %"
       ]
      },
      {
       "output_type": "stream",
       "stream": "stdout",
       "text": [
        "\n",
        "epoch 34, minibatch 46/46, validation error 7.803030 %"
       ]
      },
      {
       "output_type": "stream",
       "stream": "stdout",
       "text": [
        "\n",
        "epoch 35, minibatch 46/46, validation error 7.787879 %"
       ]
      },
      {
       "output_type": "stream",
       "stream": "stdout",
       "text": [
        "\n",
        "     epoch 35, minibatch 46/46, test error of best model 8.424242 %\n",
        "epoch 36, minibatch 46/46, validation error 7.757576 %"
       ]
      },
      {
       "output_type": "stream",
       "stream": "stdout",
       "text": [
        "\n",
        "     epoch 36, minibatch 46/46, test error of best model 8.409091 %\n",
        "epoch 37, minibatch 46/46, validation error 7.757576 %"
       ]
      },
      {
       "output_type": "stream",
       "stream": "stdout",
       "text": [
        "\n",
        "epoch 38, minibatch 46/46, validation error 7.742424 %"
       ]
      },
      {
       "output_type": "stream",
       "stream": "stdout",
       "text": [
        "\n",
        "     epoch 38, minibatch 46/46, test error of best model 8.409091 %\n",
        "epoch 39, minibatch 46/46, validation error 7.772727 %"
       ]
      },
      {
       "output_type": "stream",
       "stream": "stdout",
       "text": [
        "\n",
        "epoch 40, minibatch 46/46, validation error 7.727273 %"
       ]
      },
      {
       "output_type": "stream",
       "stream": "stdout",
       "text": [
        "\n",
        "     epoch 40, minibatch 46/46, test error of best model 8.363636 %\n",
        "epoch 41, minibatch 46/46, validation error 7.757576 %"
       ]
      },
      {
       "output_type": "stream",
       "stream": "stdout",
       "text": [
        "\n",
        "epoch 42, minibatch 46/46, validation error 7.772727 %"
       ]
      },
      {
       "output_type": "stream",
       "stream": "stdout",
       "text": [
        "\n",
        "epoch 43, minibatch 46/46, validation error 7.803030 %"
       ]
      },
      {
       "output_type": "stream",
       "stream": "stdout",
       "text": [
        "\n",
        "epoch 44, minibatch 46/46, validation error 7.803030 %"
       ]
      },
      {
       "output_type": "stream",
       "stream": "stdout",
       "text": [
        "\n",
        "epoch 45, minibatch 46/46, validation error 7.818182 %"
       ]
      },
      {
       "output_type": "stream",
       "stream": "stdout",
       "text": [
        "\n",
        "epoch 46, minibatch 46/46, validation error 7.803030 %"
       ]
      },
      {
       "output_type": "stream",
       "stream": "stdout",
       "text": [
        "\n",
        "epoch 47, minibatch 46/46, validation error 7.787879 %"
       ]
      },
      {
       "output_type": "stream",
       "stream": "stdout",
       "text": [
        "\n",
        "epoch 48, minibatch 46/46, validation error 7.787879 %"
       ]
      },
      {
       "output_type": "stream",
       "stream": "stdout",
       "text": [
        "\n",
        "epoch 49, minibatch 46/46, validation error 7.803030 %"
       ]
      },
      {
       "output_type": "stream",
       "stream": "stdout",
       "text": [
        "\n",
        "epoch 50, minibatch 46/46, validation error 7.772727 %"
       ]
      },
      {
       "output_type": "stream",
       "stream": "stdout",
       "text": [
        "\n",
        "epoch 51, minibatch 46/46, validation error 7.742424 %"
       ]
      },
      {
       "output_type": "stream",
       "stream": "stdout",
       "text": [
        "\n",
        "epoch 52, minibatch 46/46, validation error 7.727273 %"
       ]
      },
      {
       "output_type": "stream",
       "stream": "stdout",
       "text": [
        "\n",
        "epoch 53, minibatch 46/46, validation error 7.757576 %"
       ]
      },
      {
       "output_type": "stream",
       "stream": "stdout",
       "text": [
        "\n",
        "epoch 54, minibatch 46/46, validation error 7.742424 %"
       ]
      },
      {
       "output_type": "stream",
       "stream": "stdout",
       "text": [
        "\n",
        "epoch 55, minibatch 46/46, validation error 7.742424 %"
       ]
      },
      {
       "output_type": "stream",
       "stream": "stdout",
       "text": [
        "\n",
        "epoch 56, minibatch 46/46, validation error 7.742424 %"
       ]
      },
      {
       "output_type": "stream",
       "stream": "stdout",
       "text": [
        "\n",
        "epoch 57, minibatch 46/46, validation error 7.696970 %"
       ]
      },
      {
       "output_type": "stream",
       "stream": "stdout",
       "text": [
        "\n",
        "     epoch 57, minibatch 46/46, test error of best model 8.212121 %\n",
        "epoch 58, minibatch 46/46, validation error 7.681818 %"
       ]
      },
      {
       "output_type": "stream",
       "stream": "stdout",
       "text": [
        "\n",
        "     epoch 58, minibatch 46/46, test error of best model 8.196970 %\n",
        "epoch 59, minibatch 46/46, validation error 7.696970 %"
       ]
      },
      {
       "output_type": "stream",
       "stream": "stdout",
       "text": [
        "\n",
        "epoch 60, minibatch 46/46, validation error 7.712121 %"
       ]
      },
      {
       "output_type": "stream",
       "stream": "stdout",
       "text": [
        "\n",
        "epoch 61, minibatch 46/46, validation error 7.696970 %"
       ]
      },
      {
       "output_type": "stream",
       "stream": "stdout",
       "text": [
        "\n",
        "epoch 62, minibatch 46/46, validation error 7.696970 %"
       ]
      },
      {
       "output_type": "stream",
       "stream": "stdout",
       "text": [
        "\n",
        "epoch 63, minibatch 46/46, validation error 7.681818 %"
       ]
      },
      {
       "output_type": "stream",
       "stream": "stdout",
       "text": [
        "\n",
        "epoch 64, minibatch 46/46, validation error 7.696970 %"
       ]
      },
      {
       "output_type": "stream",
       "stream": "stdout",
       "text": [
        "\n",
        "epoch 65, minibatch 46/46, validation error 7.666667 %"
       ]
      },
      {
       "output_type": "stream",
       "stream": "stdout",
       "text": [
        "\n",
        "     epoch 65, minibatch 46/46, test error of best model 8.212121 %\n",
        "epoch 66, minibatch 46/46, validation error 7.621212 %"
       ]
      },
      {
       "output_type": "stream",
       "stream": "stdout",
       "text": [
        "\n",
        "     epoch 66, minibatch 46/46, test error of best model 8.242424 %\n",
        "epoch 67, minibatch 46/46, validation error 7.621212 %"
       ]
      },
      {
       "output_type": "stream",
       "stream": "stdout",
       "text": [
        "\n",
        "epoch 68, minibatch 46/46, validation error 7.621212 %"
       ]
      },
      {
       "output_type": "stream",
       "stream": "stdout",
       "text": [
        "\n",
        "epoch 69, minibatch 46/46, validation error 7.621212 %"
       ]
      },
      {
       "output_type": "stream",
       "stream": "stdout",
       "text": [
        "\n",
        "epoch 70, minibatch 46/46, validation error 7.606061 %"
       ]
      },
      {
       "output_type": "stream",
       "stream": "stdout",
       "text": [
        "\n",
        "     epoch 70, minibatch 46/46, test error of best model 8.257576 %\n",
        "epoch 71, minibatch 46/46, validation error 7.636364 %"
       ]
      },
      {
       "output_type": "stream",
       "stream": "stdout",
       "text": [
        "\n",
        "epoch 72, minibatch 46/46, validation error 7.621212 %"
       ]
      },
      {
       "output_type": "stream",
       "stream": "stdout",
       "text": [
        "\n",
        "epoch 73, minibatch 46/46, validation error 7.606061 %"
       ]
      },
      {
       "output_type": "stream",
       "stream": "stdout",
       "text": [
        "\n",
        "     epoch 73, minibatch 46/46, test error of best model 8.242424 %\n",
        "epoch 74, minibatch 46/46, validation error 7.606061 %"
       ]
      },
      {
       "output_type": "stream",
       "stream": "stdout",
       "text": [
        "\n",
        "epoch 75, minibatch 46/46, validation error 7.606061 %"
       ]
      },
      {
       "output_type": "stream",
       "stream": "stdout",
       "text": [
        "\n",
        "epoch 76, minibatch 46/46, validation error 7.606061 %"
       ]
      },
      {
       "output_type": "stream",
       "stream": "stdout",
       "text": [
        "\n",
        "epoch 77, minibatch 46/46, validation error 7.621212 %"
       ]
      },
      {
       "output_type": "stream",
       "stream": "stdout",
       "text": [
        "\n",
        "epoch 78, minibatch 46/46, validation error 7.621212 %"
       ]
      },
      {
       "output_type": "stream",
       "stream": "stdout",
       "text": [
        "\n",
        "epoch 79, minibatch 46/46, validation error 7.606061 %"
       ]
      },
      {
       "output_type": "stream",
       "stream": "stdout",
       "text": [
        "\n",
        "epoch 80, minibatch 46/46, validation error 7.606061 %"
       ]
      },
      {
       "output_type": "stream",
       "stream": "stdout",
       "text": [
        "\n",
        "epoch 81, minibatch 46/46, validation error 7.575758 %"
       ]
      },
      {
       "output_type": "stream",
       "stream": "stdout",
       "text": [
        "\n",
        "     epoch 81, minibatch 46/46, test error of best model 8.272727 %\n",
        "epoch 82, minibatch 46/46, validation error 7.560606 %"
       ]
      },
      {
       "output_type": "stream",
       "stream": "stdout",
       "text": [
        "\n",
        "     epoch 82, minibatch 46/46, test error of best model 8.303030 %\n",
        "epoch 83, minibatch 46/46, validation error 7.560606 %"
       ]
      },
      {
       "output_type": "stream",
       "stream": "stdout",
       "text": [
        "\n",
        "epoch 84, minibatch 46/46, validation error 7.560606 %"
       ]
      },
      {
       "output_type": "stream",
       "stream": "stdout",
       "text": [
        "\n",
        "epoch 85, minibatch 46/46, validation error 7.575758 %"
       ]
      },
      {
       "output_type": "stream",
       "stream": "stdout",
       "text": [
        "\n",
        "epoch 86, minibatch 46/46, validation error 7.575758 %"
       ]
      },
      {
       "output_type": "stream",
       "stream": "stdout",
       "text": [
        "\n",
        "epoch 87, minibatch 46/46, validation error 7.560606 %"
       ]
      },
      {
       "output_type": "stream",
       "stream": "stdout",
       "text": [
        "\n",
        "epoch 88, minibatch 46/46, validation error 7.560606 %"
       ]
      },
      {
       "output_type": "stream",
       "stream": "stdout",
       "text": [
        "\n",
        "epoch 89, minibatch 46/46, validation error 7.575758 %"
       ]
      },
      {
       "output_type": "stream",
       "stream": "stdout",
       "text": [
        "\n",
        "epoch 90, minibatch 46/46, validation error 7.560606 %"
       ]
      },
      {
       "output_type": "stream",
       "stream": "stdout",
       "text": [
        "\n",
        "epoch 91, minibatch 46/46, validation error 7.560606 %"
       ]
      },
      {
       "output_type": "stream",
       "stream": "stdout",
       "text": [
        "\n",
        "epoch 92, minibatch 46/46, validation error 7.590909 %"
       ]
      },
      {
       "output_type": "stream",
       "stream": "stdout",
       "text": [
        "\n",
        "epoch 93, minibatch 46/46, validation error 7.590909 %"
       ]
      },
      {
       "output_type": "stream",
       "stream": "stdout",
       "text": [
        "\n",
        "epoch 94, minibatch 46/46, validation error 7.606061 %"
       ]
      },
      {
       "output_type": "stream",
       "stream": "stdout",
       "text": [
        "\n",
        "epoch 95, minibatch 46/46, validation error 7.606061 %"
       ]
      },
      {
       "output_type": "stream",
       "stream": "stdout",
       "text": [
        "\n",
        "epoch 96, minibatch 46/46, validation error 7.590909 %"
       ]
      },
      {
       "output_type": "stream",
       "stream": "stdout",
       "text": [
        "\n",
        "epoch 97, minibatch 46/46, validation error 7.590909 %"
       ]
      },
      {
       "output_type": "stream",
       "stream": "stdout",
       "text": [
        "\n",
        "epoch 98, minibatch 46/46, validation error 7.590909 %"
       ]
      },
      {
       "output_type": "stream",
       "stream": "stdout",
       "text": [
        "\n",
        "epoch 99, minibatch 46/46, validation error 7.590909 %"
       ]
      },
      {
       "output_type": "stream",
       "stream": "stdout",
       "text": [
        "\n",
        "epoch 100, minibatch 46/46, validation error 7.590909 %"
       ]
      },
      {
       "output_type": "stream",
       "stream": "stdout",
       "text": [
        "\n",
        "epoch 101, minibatch 46/46, validation error 7.606061 %"
       ]
      },
      {
       "output_type": "stream",
       "stream": "stdout",
       "text": [
        "\n",
        "epoch 102, minibatch 46/46, validation error 7.606061 %"
       ]
      },
      {
       "output_type": "stream",
       "stream": "stdout",
       "text": [
        "\n",
        "epoch 103, minibatch 46/46, validation error 7.606061 %"
       ]
      },
      {
       "output_type": "stream",
       "stream": "stdout",
       "text": [
        "\n",
        "epoch 104, minibatch 46/46, validation error 7.590909 %"
       ]
      },
      {
       "output_type": "stream",
       "stream": "stdout",
       "text": [
        "\n",
        "epoch 105, minibatch 46/46, validation error 7.590909 %"
       ]
      },
      {
       "output_type": "stream",
       "stream": "stdout",
       "text": [
        "\n",
        "epoch 106, minibatch 46/46, validation error 7.575758 %"
       ]
      },
      {
       "output_type": "stream",
       "stream": "stdout",
       "text": [
        "\n",
        "epoch 107, minibatch 46/46, validation error 7.560606 %"
       ]
      },
      {
       "output_type": "stream",
       "stream": "stdout",
       "text": [
        "\n",
        "epoch 108, minibatch 46/46, validation error 7.575758 %"
       ]
      },
      {
       "output_type": "stream",
       "stream": "stdout",
       "text": [
        "\n",
        "epoch 109, minibatch 46/46, validation error 7.560606 %"
       ]
      },
      {
       "output_type": "stream",
       "stream": "stdout",
       "text": [
        "\n",
        "epoch 110, minibatch 46/46, validation error 7.606061 %"
       ]
      },
      {
       "output_type": "stream",
       "stream": "stdout",
       "text": [
        "\n",
        "epoch 111, minibatch 46/46, validation error 7.606061 %"
       ]
      },
      {
       "output_type": "stream",
       "stream": "stdout",
       "text": [
        "\n",
        "epoch 112, minibatch 46/46, validation error 7.606061 %"
       ]
      },
      {
       "output_type": "stream",
       "stream": "stdout",
       "text": [
        "\n",
        "epoch 113, minibatch 46/46, validation error 7.606061 %"
       ]
      },
      {
       "output_type": "stream",
       "stream": "stdout",
       "text": [
        "\n",
        "epoch 114, minibatch 46/46, validation error 7.606061 %"
       ]
      },
      {
       "output_type": "stream",
       "stream": "stdout",
       "text": [
        "\n",
        "epoch 115, minibatch 46/46, validation error 7.606061 %"
       ]
      },
      {
       "output_type": "stream",
       "stream": "stdout",
       "text": [
        "\n",
        "epoch 116, minibatch 46/46, validation error 7.590909 %"
       ]
      },
      {
       "output_type": "stream",
       "stream": "stdout",
       "text": [
        "\n",
        "epoch 117, minibatch 46/46, validation error 7.606061 %"
       ]
      },
      {
       "output_type": "stream",
       "stream": "stdout",
       "text": [
        "\n",
        "epoch 118, minibatch 46/46, validation error 7.590909 %"
       ]
      },
      {
       "output_type": "stream",
       "stream": "stdout",
       "text": [
        "\n",
        "epoch 119, minibatch 46/46, validation error 7.606061 %"
       ]
      },
      {
       "output_type": "stream",
       "stream": "stdout",
       "text": [
        "\n",
        "epoch 120, minibatch 46/46, validation error 7.606061 %"
       ]
      },
      {
       "output_type": "stream",
       "stream": "stdout",
       "text": [
        "\n",
        "epoch 121, minibatch 46/46, validation error 7.590909 %"
       ]
      },
      {
       "output_type": "stream",
       "stream": "stdout",
       "text": [
        "\n",
        "epoch 122, minibatch 46/46, validation error 7.590909 %"
       ]
      },
      {
       "output_type": "stream",
       "stream": "stdout",
       "text": [
        "\n",
        "epoch 123, minibatch 46/46, validation error 7.621212 %"
       ]
      },
      {
       "output_type": "stream",
       "stream": "stdout",
       "text": [
        "\n",
        "epoch 124, minibatch 46/46, validation error 7.590909 %"
       ]
      },
      {
       "output_type": "stream",
       "stream": "stdout",
       "text": [
        "\n",
        "epoch 125, minibatch 46/46, validation error 7.590909 %"
       ]
      },
      {
       "output_type": "stream",
       "stream": "stdout",
       "text": [
        "\n",
        "epoch 126, minibatch 46/46, validation error 7.590909 %"
       ]
      },
      {
       "output_type": "stream",
       "stream": "stdout",
       "text": [
        "\n",
        "epoch 127, minibatch 46/46, validation error 7.575758 %"
       ]
      },
      {
       "output_type": "stream",
       "stream": "stdout",
       "text": [
        "\n",
        "epoch 128, minibatch 46/46, validation error 7.575758 %"
       ]
      },
      {
       "output_type": "stream",
       "stream": "stdout",
       "text": [
        "\n",
        "epoch 129, minibatch 46/46, validation error 7.560606 %"
       ]
      },
      {
       "output_type": "stream",
       "stream": "stdout",
       "text": [
        "\n",
        "epoch 130, minibatch 46/46, validation error 7.560606 %"
       ]
      },
      {
       "output_type": "stream",
       "stream": "stdout",
       "text": [
        "\n",
        "epoch 131, minibatch 46/46, validation error 7.545455 %"
       ]
      },
      {
       "output_type": "stream",
       "stream": "stdout",
       "text": [
        "\n",
        "     epoch 131, minibatch 46/46, test error of best model 8.409091 %\n",
        "Optimization complete with best validation score of 7.545455 %,with test performance 8.409091 %"
       ]
      },
      {
       "output_type": "stream",
       "stream": "stdout",
       "text": [
        "\n",
        "The code run for 132 epochs, with 2.522313 epochs/sec\n"
       ]
      }
     ],
     "prompt_number": 31
    },
    {
     "cell_type": "markdown",
     "metadata": {},
     "source": [
      "Output predictions for the unlabeled the Kaggle test data"
     ]
    },
    {
     "cell_type": "code",
     "collapsed": false,
     "input": [
      "predict = theano.function(\n",
      "    inputs=[inputs],\n",
      "    outputs=classifier.y_pred,\n",
      "    allow_input_downcast=True\n",
      ")"
     ],
     "language": "python",
     "metadata": {},
     "outputs": [],
     "prompt_number": 32
    },
    {
     "cell_type": "markdown",
     "metadata": {},
     "source": [
      "Write predictions to a file for submission:"
     ]
    },
    {
     "cell_type": "code",
     "collapsed": false,
     "input": [
      "test_data = load_predict_data()\n",
      "\n",
      "with open(\"logistic_regression.output\",\"w\") as f:\n",
      "    f.write(\"ImageId,Label\\n\")\n",
      "    ImageId = 1\n",
      "    for i in test_data[0]:\n",
      "        f.write( \",\".join([str(ImageId),str(predict(i.reshape(1,784))[0])]) + '\\n' )\n",
      "        ImageId += 1"
     ],
     "language": "python",
     "metadata": {},
     "outputs": [],
     "prompt_number": 34
    }
   ],
   "metadata": {}
  }
 ]
}