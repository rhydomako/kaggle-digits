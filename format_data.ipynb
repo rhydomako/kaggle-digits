{
 "metadata": {
  "name": "",
  "signature": "sha256:bc2787b6aebfe418df853afb18ea88eee2a4e95648080b15fb5de32de84e59fd"
 },
 "nbformat": 3,
 "nbformat_minor": 0,
 "worksheets": [
  {
   "cells": [
    {
     "cell_type": "markdown",
     "metadata": {},
     "source": [
      "Prerequisit: download the train/test datasets from Kaggle"
     ]
    },
    {
     "cell_type": "code",
     "collapsed": false,
     "input": [
      "import pandas as pd\n",
      "import numpy as np\n",
      "import cPickle"
     ],
     "language": "python",
     "metadata": {},
     "outputs": [],
     "prompt_number": 1
    },
    {
     "cell_type": "code",
     "collapsed": false,
     "input": [
      "def format_training_data(df):\n",
      "    labels = df[\"label\"].values\n",
      "    sans_labels = df.drop(\"label\",1)/255. #int to float\n",
      "    \n",
      "    return (np.array(sans_labels.values, dtype=np.float32),labels)\n",
      "\n",
      "def format_test_data(df):\n",
      "    return (np.array(df, dtype=np.float32)/255.,)"
     ],
     "language": "python",
     "metadata": {},
     "outputs": [],
     "prompt_number": 2
    },
    {
     "cell_type": "code",
     "collapsed": false,
     "input": [
      "DATA_FILE = \"data/train.csv\"\n",
      "\n",
      "data = pd.read_csv(DATA_FILE)\n",
      "\n",
      "train, test, validation = format_data(data[0:28000]), \\\n",
      "                          format_data(data[28000:35000]), \\\n",
      "                          format_data(data[35000:]) \n",
      "\n",
      "out_file = open('digits.pkl', \"wb\")\n",
      "cPickle.dump( (train,test,validation), out_file, -1)\n",
      "out_file.close()"
     ],
     "language": "python",
     "metadata": {},
     "outputs": [],
     "prompt_number": 18
    },
    {
     "cell_type": "code",
     "collapsed": false,
     "input": [
      "TEST_FILE = \"data/test.csv\"\n",
      "\n",
      "test_data = pd.read_csv(TEST_FILE)\n",
      "\n",
      "test = format_test_data(test_data)\n",
      "\n",
      "test_out_file = open('predict.pkl', \"wb\")\n",
      "cPickle.dump( test, test_out_file, -1)\n",
      "test_out_file.close()"
     ],
     "language": "python",
     "metadata": {},
     "outputs": [],
     "prompt_number": 3
    }
   ],
   "metadata": {}
  }
 ]
}